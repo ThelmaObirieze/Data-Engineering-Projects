{
 "cells": [
  {
   "cell_type": "code",
   "execution_count": 1,
   "metadata": {
    "editable": true
   },
   "outputs": [
    {
     "name": "stdout",
     "output_type": "stream",
     "text": [
      "Load song_data starting...\n",
      "...Load song_data completed. Time taken for fun program:  73.50203204154968\n",
      "root\n",
      " |-- artist_id: string (nullable = true)\n",
      " |-- artist_latitude: double (nullable = true)\n",
      " |-- artist_location: string (nullable = true)\n",
      " |-- artist_longitude: string (nullable = true)\n",
      " |-- artist_name: string (nullable = true)\n",
      " |-- duration: double (nullable = true)\n",
      " |-- num_songs: integer (nullable = true)\n",
      " |-- title: string (nullable = true)\n",
      " |-- year: integer (nullable = true)\n",
      "\n",
      "Loading songs_table starts...\n",
      "...Loading songs_table completes. Time taken for fun program:  125.18407416343689\n",
      "Loading artists_table starts...\n",
      "...Loading artists_table completes. Time taken for fun program:  112.14047861099243\n",
      "Load log_data starting...\n",
      "...Load log_data completed.\n",
      "Load users_table starts...\n",
      "...Loading users_table completes. Time taken for fun program:  9.668612957000732\n",
      "Loading time_table starts...\n",
      "...Loading time_table completes. Time taken for fun program:  7.093257665634155\n"
     ]
    }
   ],
   "source": [
    "%run etl.py"
   ]
  },
  {
   "cell_type": "code",
   "execution_count": 2,
   "metadata": {
    "editable": true
   },
   "outputs": [
    {
     "data": {
      "text/html": [
       "\n",
       "            <div>\n",
       "                <p><b>SparkSession - in-memory</b></p>\n",
       "                \n",
       "        <div>\n",
       "            <p><b>SparkContext</b></p>\n",
       "\n",
       "            <p><a href=\"http://a082da4290da:4040\">Spark UI</a></p>\n",
       "\n",
       "            <dl>\n",
       "              <dt>Version</dt>\n",
       "                <dd><code>v2.4.3</code></dd>\n",
       "              <dt>Master</dt>\n",
       "                <dd><code>local[*]</code></dd>\n",
       "              <dt>AppName</dt>\n",
       "                <dd><code>pyspark-shell</code></dd>\n",
       "            </dl>\n",
       "        </div>\n",
       "        \n",
       "            </div>\n",
       "        "
      ],
      "text/plain": [
       "<pyspark.sql.session.SparkSession at 0x7fe2b01780f0>"
      ]
     },
     "execution_count": 2,
     "metadata": {},
     "output_type": "execute_result"
    }
   ],
   "source": [
    "import configparser\n",
    "import os\n",
    "from pyspark.sql import SparkSession\n",
    "\n",
    "config = configparser.ConfigParser()\n",
    "config.read('dl.cfg')\n",
    "\n",
    "os.environ['AWS_ACCESS_KEY_ID'] = config.get('AWS', 'AWS_ACCESS_KEY_ID')\n",
    "os.environ['AWS_SECRET_ACCESS_KEY'] = config.get('AWS', 'AWS_SECRET_ACCESS_KEY')\n",
    "\n",
    "spark = SparkSession \\\n",
    "        .builder \\\n",
    "        .config(\"spark.jars.packages\", \"org.apache.hadoop:hadoop-aws:2.7.0\") \\\n",
    "        .getOrCreate()\n",
    "spark"
   ]
  },
  {
   "cell_type": "code",
   "execution_count": 2,
   "metadata": {
    "editable": true
   },
   "outputs": [],
   "source": [
    "df = spark.read.parquet(\"users/\")"
   ]
  },
  {
   "cell_type": "code",
   "execution_count": 3,
   "metadata": {
    "editable": true
   },
   "outputs": [
    {
     "data": {
      "text/plain": [
       "[Row(user_id='88', first_name='Mohammad', last_name='Rodriguez', gender='M', level='free'),\n",
       " Row(user_id='68', first_name='Jordan', last_name='Rodriguez', gender='F', level='free'),\n",
       " Row(user_id='29', first_name='Jacqueline', last_name='Lynch', gender='F', level='free'),\n",
       " Row(user_id='75', first_name='Joseph', last_name='Gutierrez', gender='M', level='free'),\n",
       " Row(user_id='69', first_name='Anabelle', last_name='Simpson', gender='F', level='free')]"
      ]
     },
     "execution_count": 3,
     "metadata": {},
     "output_type": "execute_result"
    }
   ],
   "source": [
    "df.head(5)"
   ]
  },
  {
   "cell_type": "code",
   "execution_count": 4,
   "metadata": {
    "editable": true
   },
   "outputs": [
    {
     "data": {
      "text/plain": [
       "<bound method DataFrame.printSchema of DataFrame[user_id: string, first_name: string, last_name: string, gender: string, level: string]>"
      ]
     },
     "execution_count": 4,
     "metadata": {},
     "output_type": "execute_result"
    }
   ],
   "source": [
    "df.printSchema"
   ]
  },
  {
   "cell_type": "code",
   "execution_count": 9,
   "metadata": {
    "editable": true
   },
   "outputs": [
    {
     "name": "stdout",
     "output_type": "stream",
     "text": [
      "+-------+----------+---------+------+-----+\n",
      "|user_id|first_name|last_name|gender|level|\n",
      "+-------+----------+---------+------+-----+\n",
      "|     88|  Mohammad|Rodriguez|     M| free|\n",
      "|     68|    Jordan|Rodriguez|     F| free|\n",
      "|     29|Jacqueline|    Lynch|     F| free|\n",
      "|     75|    Joseph|Gutierrez|     M| free|\n",
      "|     69|  Anabelle|  Simpson|     F| free|\n",
      "|     40|    Tucker| Garrison|     M| free|\n",
      "|     61|    Samuel| Gonzalez|     M| free|\n",
      "|     14|  Theodore|   Harris|     M| free|\n",
      "|      2|   Jizelle| Benjamin|     F| free|\n",
      "|     52|  Theodore|    Smith|     M| free|\n",
      "|     12|    Austin|  Rosales|     M| free|\n",
      "|     17|  Makinley|    Jones|     F| free|\n",
      "|    100|     Adler|  Barrera|     M| free|\n",
      "|     53|   Celeste| Williams|     F| free|\n",
      "|     56|    Cienna|  Freeman|     F| free|\n",
      "|     38|    Gianna|    Jones|     F| free|\n",
      "|     36|   Matthew|    Jones|     M| free|\n",
      "|     88|  Mohammad|Rodriguez|     M| paid|\n",
      "|     73|     Jacob|    Klein|     M| paid|\n",
      "|     77| Magdalene|   Herman|     F| free|\n",
      "+-------+----------+---------+------+-----+\n",
      "only showing top 20 rows\n",
      "\n"
     ]
    }
   ],
   "source": [
    "from pyspark.sql.functions import *\n",
    "from pyspark.sql.types import *\n",
    "df.registerTempTable(\"users\")\n",
    "\n",
    "spark.sql(\"select * from users\").show()"
   ]
  },
  {
   "cell_type": "code",
   "execution_count": null,
   "metadata": {
    "editable": true
   },
   "outputs": [],
   "source": []
  }
 ],
 "metadata": {
  "kernelspec": {
   "display_name": "Python 3",
   "language": "python",
   "name": "python3"
  },
  "language_info": {
   "codemirror_mode": {
    "name": "ipython",
    "version": 3
   },
   "file_extension": ".py",
   "mimetype": "text/x-python",
   "name": "python",
   "nbconvert_exporter": "python",
   "pygments_lexer": "ipython3",
   "version": "3.6.3"
  }
 },
 "nbformat": 4,
 "nbformat_minor": 4
}
